{
  "nbformat": 4,
  "nbformat_minor": 0,
  "metadata": {
    "colab": {
      "provenance": []
    },
    "kernelspec": {
      "name": "python3",
      "display_name": "Python 3"
    },
    "language_info": {
      "name": "python"
    }
  },
  "cells": [
    {
      "cell_type": "code",
      "execution_count": 1,
      "metadata": {
        "id": "xAnlZRZd-fOI"
      },
      "outputs": [],
      "source": [
        "# ======================\n",
        "# Miami Market Dashboard\n",
        "# ======================\n",
        "# This colab will:\n",
        "# 1. Load Redfin CSV housing data\n",
        "# 2. Clean the dataset for core Miami markets\n",
        "# 3. Prepare the data for visualization and analysis"
      ]
    },
    {
      "cell_type": "code",
      "source": [
        "# Step 1. Install and Import Libraries\n",
        "\n",
        "import pandas as pd\n",
        "import matplotlib.pyplot as plt\n",
        "import seaborn as sns"
      ],
      "metadata": {
        "id": "UIEFTLCBCWY-"
      },
      "execution_count": 2,
      "outputs": []
    },
    {
      "cell_type": "code",
      "source": [
        "# Step 2. Upload file\n",
        "\n",
        "from google.colab import files\n",
        "uploaded = files.upload()"
      ],
      "metadata": {
        "colab": {
          "base_uri": "https://localhost:8080/",
          "height": 73
        },
        "id": "gukxTWfRClXl",
        "outputId": "65aef70a-7e14-4a75-e071-f871828cfd16"
      },
      "execution_count": 3,
      "outputs": [
        {
          "output_type": "display_data",
          "data": {
            "text/plain": [
              "<IPython.core.display.HTML object>"
            ],
            "text/html": [
              "\n",
              "     <input type=\"file\" id=\"files-b9d52b72-2a3c-4915-b2ea-8cd3cfdeb738\" name=\"files[]\" multiple disabled\n",
              "        style=\"border:none\" />\n",
              "     <output id=\"result-b9d52b72-2a3c-4915-b2ea-8cd3cfdeb738\">\n",
              "      Upload widget is only available when the cell has been executed in the\n",
              "      current browser session. Please rerun this cell to enable.\n",
              "      </output>\n",
              "      <script>// Copyright 2017 Google LLC\n",
              "//\n",
              "// Licensed under the Apache License, Version 2.0 (the \"License\");\n",
              "// you may not use this file except in compliance with the License.\n",
              "// You may obtain a copy of the License at\n",
              "//\n",
              "//      http://www.apache.org/licenses/LICENSE-2.0\n",
              "//\n",
              "// Unless required by applicable law or agreed to in writing, software\n",
              "// distributed under the License is distributed on an \"AS IS\" BASIS,\n",
              "// WITHOUT WARRANTIES OR CONDITIONS OF ANY KIND, either express or implied.\n",
              "// See the License for the specific language governing permissions and\n",
              "// limitations under the License.\n",
              "\n",
              "/**\n",
              " * @fileoverview Helpers for google.colab Python module.\n",
              " */\n",
              "(function(scope) {\n",
              "function span(text, styleAttributes = {}) {\n",
              "  const element = document.createElement('span');\n",
              "  element.textContent = text;\n",
              "  for (const key of Object.keys(styleAttributes)) {\n",
              "    element.style[key] = styleAttributes[key];\n",
              "  }\n",
              "  return element;\n",
              "}\n",
              "\n",
              "// Max number of bytes which will be uploaded at a time.\n",
              "const MAX_PAYLOAD_SIZE = 100 * 1024;\n",
              "\n",
              "function _uploadFiles(inputId, outputId) {\n",
              "  const steps = uploadFilesStep(inputId, outputId);\n",
              "  const outputElement = document.getElementById(outputId);\n",
              "  // Cache steps on the outputElement to make it available for the next call\n",
              "  // to uploadFilesContinue from Python.\n",
              "  outputElement.steps = steps;\n",
              "\n",
              "  return _uploadFilesContinue(outputId);\n",
              "}\n",
              "\n",
              "// This is roughly an async generator (not supported in the browser yet),\n",
              "// where there are multiple asynchronous steps and the Python side is going\n",
              "// to poll for completion of each step.\n",
              "// This uses a Promise to block the python side on completion of each step,\n",
              "// then passes the result of the previous step as the input to the next step.\n",
              "function _uploadFilesContinue(outputId) {\n",
              "  const outputElement = document.getElementById(outputId);\n",
              "  const steps = outputElement.steps;\n",
              "\n",
              "  const next = steps.next(outputElement.lastPromiseValue);\n",
              "  return Promise.resolve(next.value.promise).then((value) => {\n",
              "    // Cache the last promise value to make it available to the next\n",
              "    // step of the generator.\n",
              "    outputElement.lastPromiseValue = value;\n",
              "    return next.value.response;\n",
              "  });\n",
              "}\n",
              "\n",
              "/**\n",
              " * Generator function which is called between each async step of the upload\n",
              " * process.\n",
              " * @param {string} inputId Element ID of the input file picker element.\n",
              " * @param {string} outputId Element ID of the output display.\n",
              " * @return {!Iterable<!Object>} Iterable of next steps.\n",
              " */\n",
              "function* uploadFilesStep(inputId, outputId) {\n",
              "  const inputElement = document.getElementById(inputId);\n",
              "  inputElement.disabled = false;\n",
              "\n",
              "  const outputElement = document.getElementById(outputId);\n",
              "  outputElement.innerHTML = '';\n",
              "\n",
              "  const pickedPromise = new Promise((resolve) => {\n",
              "    inputElement.addEventListener('change', (e) => {\n",
              "      resolve(e.target.files);\n",
              "    });\n",
              "  });\n",
              "\n",
              "  const cancel = document.createElement('button');\n",
              "  inputElement.parentElement.appendChild(cancel);\n",
              "  cancel.textContent = 'Cancel upload';\n",
              "  const cancelPromise = new Promise((resolve) => {\n",
              "    cancel.onclick = () => {\n",
              "      resolve(null);\n",
              "    };\n",
              "  });\n",
              "\n",
              "  // Wait for the user to pick the files.\n",
              "  const files = yield {\n",
              "    promise: Promise.race([pickedPromise, cancelPromise]),\n",
              "    response: {\n",
              "      action: 'starting',\n",
              "    }\n",
              "  };\n",
              "\n",
              "  cancel.remove();\n",
              "\n",
              "  // Disable the input element since further picks are not allowed.\n",
              "  inputElement.disabled = true;\n",
              "\n",
              "  if (!files) {\n",
              "    return {\n",
              "      response: {\n",
              "        action: 'complete',\n",
              "      }\n",
              "    };\n",
              "  }\n",
              "\n",
              "  for (const file of files) {\n",
              "    const li = document.createElement('li');\n",
              "    li.append(span(file.name, {fontWeight: 'bold'}));\n",
              "    li.append(span(\n",
              "        `(${file.type || 'n/a'}) - ${file.size} bytes, ` +\n",
              "        `last modified: ${\n",
              "            file.lastModifiedDate ? file.lastModifiedDate.toLocaleDateString() :\n",
              "                                    'n/a'} - `));\n",
              "    const percent = span('0% done');\n",
              "    li.appendChild(percent);\n",
              "\n",
              "    outputElement.appendChild(li);\n",
              "\n",
              "    const fileDataPromise = new Promise((resolve) => {\n",
              "      const reader = new FileReader();\n",
              "      reader.onload = (e) => {\n",
              "        resolve(e.target.result);\n",
              "      };\n",
              "      reader.readAsArrayBuffer(file);\n",
              "    });\n",
              "    // Wait for the data to be ready.\n",
              "    let fileData = yield {\n",
              "      promise: fileDataPromise,\n",
              "      response: {\n",
              "        action: 'continue',\n",
              "      }\n",
              "    };\n",
              "\n",
              "    // Use a chunked sending to avoid message size limits. See b/62115660.\n",
              "    let position = 0;\n",
              "    do {\n",
              "      const length = Math.min(fileData.byteLength - position, MAX_PAYLOAD_SIZE);\n",
              "      const chunk = new Uint8Array(fileData, position, length);\n",
              "      position += length;\n",
              "\n",
              "      const base64 = btoa(String.fromCharCode.apply(null, chunk));\n",
              "      yield {\n",
              "        response: {\n",
              "          action: 'append',\n",
              "          file: file.name,\n",
              "          data: base64,\n",
              "        },\n",
              "      };\n",
              "\n",
              "      let percentDone = fileData.byteLength === 0 ?\n",
              "          100 :\n",
              "          Math.round((position / fileData.byteLength) * 100);\n",
              "      percent.textContent = `${percentDone}% done`;\n",
              "\n",
              "    } while (position < fileData.byteLength);\n",
              "  }\n",
              "\n",
              "  // All done.\n",
              "  yield {\n",
              "    response: {\n",
              "      action: 'complete',\n",
              "    }\n",
              "  };\n",
              "}\n",
              "\n",
              "scope.google = scope.google || {};\n",
              "scope.google.colab = scope.google.colab || {};\n",
              "scope.google.colab._files = {\n",
              "  _uploadFiles,\n",
              "  _uploadFilesContinue,\n",
              "};\n",
              "})(self);\n",
              "</script> "
            ]
          },
          "metadata": {}
        },
        {
          "output_type": "stream",
          "name": "stdout",
          "text": [
            "Saving data.csv to data.csv\n"
          ]
        }
      ]
    },
    {
      "cell_type": "code",
      "source": [
        "df = pd.read_csv('data.csv', encoding='utf-16', sep='\\t')\n",
        "print(df.head())"
      ],
      "metadata": {
        "colab": {
          "base_uri": "https://localhost:8080/"
        },
        "id": "KW4Dzpa3Cq0f",
        "outputId": "f90591ef-51fc-40ee-fb32-3141733223a2"
      },
      "execution_count": 25,
      "outputs": [
        {
          "output_type": "stream",
          "name": "stdout",
          "text": [
            "            Region Month of Period End Median Sale Price  \\\n",
            "0  Miami Beach, FL        January 2012             $235K   \n",
            "1  Miami Beach, FL       February 2012             $273K   \n",
            "2  Miami Beach, FL          March 2012             $280K   \n",
            "3  Miami Beach, FL          April 2012             $310K   \n",
            "4  Miami Beach, FL            May 2012             $300K   \n",
            "\n",
            "  Median Sale Price MoM  Median Sale Price YoY  Homes Sold Homes Sold MoM   \\\n",
            "0                  -9.4%                  38.2%        236          -16.3%   \n",
            "1                  16.0%                  19.0%        222           -5.9%   \n",
            "2                   2.8%                   7.1%        303           36.5%   \n",
            "3                  10.7%                  31.9%        303            0.0%   \n",
            "4                  -3.2%                  15.4%        322            6.3%   \n",
            "\n",
            "  Homes Sold YoY  New Listings New Listings MoM  New Listings YoY  Inventory  \\\n",
            "0            6.3%          NaN               NaN               NaN       NaN   \n",
            "1          -12.3%          NaN               NaN               NaN       NaN   \n",
            "2           -5.3%          NaN               NaN               NaN       NaN   \n",
            "3            4.1%          NaN               NaN               NaN       NaN   \n",
            "4           -5.0%          NaN               NaN               NaN       NaN   \n",
            "\n",
            "  Inventory MoM   Inventory YoY  Days on Market Days on Market MoM  \\\n",
            "0            NaN             NaN            NaN                NaN   \n",
            "1            NaN             NaN            NaN                NaN   \n",
            "2            NaN             NaN            NaN                NaN   \n",
            "3            NaN             NaN            NaN                NaN   \n",
            "4            NaN             NaN            NaN                NaN   \n",
            "\n",
            "  Days on Market YoY Average Sale To List Average Sale To List MoM   \\\n",
            "0                NaN                94.4%                      0.4%   \n",
            "1                NaN                94.9%                      0.5%   \n",
            "2                NaN                94.3%                     -0.5%   \n",
            "3                NaN                94.3%                      0.0%   \n",
            "4                NaN                94.2%                     -0.2%   \n",
            "\n",
            "  Average Sale To List YoY   \n",
            "0                     -0.1%  \n",
            "1                      1.0%  \n",
            "2                      0.9%  \n",
            "3                      0.7%  \n",
            "4                      0.7%  \n"
          ]
        }
      ]
    },
    {
      "cell_type": "code",
      "source": [
        "# Step 3. Explore the dataset\n",
        "print('\\nUnique Regions in Dataset:')\n",
        "print(df['Region'].unique())"
      ],
      "metadata": {
        "colab": {
          "base_uri": "https://localhost:8080/"
        },
        "id": "OvVINFunC7Mv",
        "outputId": "fe3e0bae-70a6-4025-a192-bb9683c434b1"
      },
      "execution_count": 26,
      "outputs": [
        {
          "output_type": "stream",
          "name": "stdout",
          "text": [
            "\n",
            "Unique Regions in Dataset:\n",
            "['Miami Beach, FL' 'Miami Gardens, FL' 'Miami Lakes, FL'\n",
            " 'Miami Shores, FL' 'Miami Springs, FL' 'Miami-Dade County, FL'\n",
            " 'Miami, FL' 'Miami, FL metro area' 'North Miami Beach, FL'\n",
            " 'North Miami, FL' 'South Miami Heights, FL' 'South Miami, FL'\n",
            " 'West Miami, FL']\n"
          ]
        }
      ]
    },
    {
      "cell_type": "code",
      "source": [
        "# Step 4. Filter for Miami metros by defining markets to keep\n",
        "miami_core = [\n",
        "    'Miami Beach, FL',\n",
        "    'Miami-Dade County, FL',\n",
        "    'Miami, FL metro area']\n",
        "\n",
        "df_filtered = df[df['Region'].isin(miami_core)]\n",
        "\n",
        "print('\\nUnique Regions in Filtered Dataset:')\n",
        "print(df_filtered['Region'].unique())"
      ],
      "metadata": {
        "colab": {
          "base_uri": "https://localhost:8080/"
        },
        "id": "tT1_w_XwFxVF",
        "outputId": "dde1ec52-d090-45d3-c711-c050293182e7"
      },
      "execution_count": 28,
      "outputs": [
        {
          "output_type": "stream",
          "name": "stdout",
          "text": [
            "\n",
            "Unique Regions in Filtered Dataset:\n",
            "['Miami Beach, FL' 'Miami-Dade County, FL' 'Miami, FL metro area']\n"
          ]
        }
      ]
    },
    {
      "cell_type": "code",
      "source": [
        "df_filtered.to_csv('miami_core.csv', index=False)\n",
        "print('\\nCleaned dataset saved as miami_core.csv')"
      ],
      "metadata": {
        "colab": {
          "base_uri": "https://localhost:8080/"
        },
        "id": "NkIAl9WFK3lW",
        "outputId": "239fd5db-49fa-4f7e-8815-22ced7c0ac06"
      },
      "execution_count": 29,
      "outputs": [
        {
          "output_type": "stream",
          "name": "stdout",
          "text": [
            "\n",
            "Cleaned dataset saved as miami_core.csv\n"
          ]
        }
      ]
    },
    {
      "cell_type": "code",
      "source": [],
      "metadata": {
        "id": "OoLTI3QRLNKn"
      },
      "execution_count": null,
      "outputs": []
    }
  ]
}